{
 "cells": [
  {
   "cell_type": "markdown",
   "id": "874456d9",
   "metadata": {},
   "source": [
    "# Basic Operation in Python"
   ]
  },
  {
   "cell_type": "code",
   "execution_count": 1,
   "id": "5b9893fa",
   "metadata": {
    "ExecuteTime": {
     "end_time": "2023-01-14T12:45:16.827380Z",
     "start_time": "2023-01-14T12:45:16.807179Z"
    }
   },
   "outputs": [
    {
     "name": "stdout",
     "output_type": "stream",
     "text": [
      "500\n"
     ]
    }
   ],
   "source": [
    "# Variable\n",
    "\n",
    "a = 500\n",
    "type(a)\n",
    "print(a)"
   ]
  },
  {
   "cell_type": "code",
   "execution_count": 2,
   "id": "47d2630a",
   "metadata": {
    "ExecuteTime": {
     "end_time": "2023-01-14T12:45:16.843487Z",
     "start_time": "2023-01-14T12:45:16.829383Z"
    }
   },
   "outputs": [],
   "source": [
    "# Arithmetic operators (+,-,/,%)\n"
   ]
  },
  {
   "cell_type": "code",
   "execution_count": 5,
   "id": "421e59f2",
   "metadata": {
    "ExecuteTime": {
     "end_time": "2023-01-14T12:45:40.055543Z",
     "start_time": "2023-01-14T12:45:40.040599Z"
    }
   },
   "outputs": [
    {
     "data": {
      "text/plain": [
       "500"
      ]
     },
     "execution_count": 5,
     "metadata": {},
     "output_type": "execute_result"
    }
   ],
   "source": [
    "a"
   ]
  },
  {
   "cell_type": "code",
   "execution_count": 6,
   "id": "0deac863",
   "metadata": {
    "ExecuteTime": {
     "end_time": "2023-01-14T12:45:49.304931Z",
     "start_time": "2023-01-14T12:45:49.295767Z"
    }
   },
   "outputs": [
    {
     "data": {
      "text/plain": [
       "505"
      ]
     },
     "execution_count": 6,
     "metadata": {},
     "output_type": "execute_result"
    }
   ],
   "source": [
    "a+5"
   ]
  },
  {
   "cell_type": "code",
   "execution_count": 9,
   "id": "2835fdcd",
   "metadata": {
    "ExecuteTime": {
     "end_time": "2023-01-14T12:46:34.496040Z",
     "start_time": "2023-01-14T12:46:34.478658Z"
    }
   },
   "outputs": [
    {
     "data": {
      "text/plain": [
       "505"
      ]
     },
     "execution_count": 9,
     "metadata": {},
     "output_type": "execute_result"
    }
   ],
   "source": [
    "b = a+5\n",
    "b"
   ]
  },
  {
   "cell_type": "code",
   "execution_count": 10,
   "id": "65a22aca",
   "metadata": {
    "ExecuteTime": {
     "end_time": "2023-01-14T12:46:44.992156Z",
     "start_time": "2023-01-14T12:46:44.974855Z"
    }
   },
   "outputs": [
    {
     "data": {
      "text/plain": [
       "500"
      ]
     },
     "execution_count": 10,
     "metadata": {},
     "output_type": "execute_result"
    }
   ],
   "source": [
    "b-5"
   ]
  },
  {
   "cell_type": "code",
   "execution_count": 11,
   "id": "65782c7b",
   "metadata": {
    "ExecuteTime": {
     "end_time": "2023-01-14T12:47:05.787673Z",
     "start_time": "2023-01-14T12:47:05.774594Z"
    }
   },
   "outputs": [],
   "source": [
    "a = 10\n",
    "b = 20"
   ]
  },
  {
   "cell_type": "code",
   "execution_count": 12,
   "id": "f9986bd1",
   "metadata": {
    "ExecuteTime": {
     "end_time": "2023-01-14T12:47:14.830442Z",
     "start_time": "2023-01-14T12:47:14.809933Z"
    }
   },
   "outputs": [
    {
     "data": {
      "text/plain": [
       "False"
      ]
     },
     "execution_count": 12,
     "metadata": {},
     "output_type": "execute_result"
    }
   ],
   "source": [
    "a==b\n"
   ]
  },
  {
   "cell_type": "code",
   "execution_count": 13,
   "id": "9108a285",
   "metadata": {
    "ExecuteTime": {
     "end_time": "2023-01-14T12:47:30.979860Z",
     "start_time": "2023-01-14T12:47:30.962807Z"
    }
   },
   "outputs": [
    {
     "data": {
      "text/plain": [
       "True"
      ]
     },
     "execution_count": 13,
     "metadata": {},
     "output_type": "execute_result"
    }
   ],
   "source": [
    "a!=b"
   ]
  },
  {
   "cell_type": "code",
   "execution_count": 14,
   "id": "766c8832",
   "metadata": {
    "ExecuteTime": {
     "end_time": "2023-01-14T12:47:52.837866Z",
     "start_time": "2023-01-14T12:47:52.823036Z"
    }
   },
   "outputs": [
    {
     "data": {
      "text/plain": [
       "False"
      ]
     },
     "execution_count": 14,
     "metadata": {},
     "output_type": "execute_result"
    }
   ],
   "source": [
    "a>b"
   ]
  },
  {
   "cell_type": "code",
   "execution_count": 15,
   "id": "87abd73a",
   "metadata": {
    "ExecuteTime": {
     "end_time": "2023-01-14T12:48:02.280795Z",
     "start_time": "2023-01-14T12:48:02.265836Z"
    }
   },
   "outputs": [
    {
     "data": {
      "text/plain": [
       "True"
      ]
     },
     "execution_count": 15,
     "metadata": {},
     "output_type": "execute_result"
    }
   ],
   "source": [
    "a<b"
   ]
  },
  {
   "cell_type": "code",
   "execution_count": null,
   "id": "63035c8a",
   "metadata": {},
   "outputs": [],
   "source": [
    "#Single line comment\n",
    "(#) used for single line comment "
   ]
  },
  {
   "cell_type": "code",
   "execution_count": null,
   "id": "b2eb6969",
   "metadata": {},
   "outputs": [],
   "source": [
    "#Multi-line comment\n",
    "'''This is python class'''\n",
    "---> multi-line comment are used to triple cot"
   ]
  },
  {
   "cell_type": "markdown",
   "id": "243a97ec",
   "metadata": {},
   "source": [
    "# Data type in python \n",
    "\n",
    "1. Integer ---> Whole number (e.g :- 10,20,30)\n",
    "2. Float --->  Decimal number (e.g :- 10.8, 2.7, 356.2)\n",
    "3. String ---> Character name (e.g :- 'HUSEN' )\n",
    "4. Boolean ---> data contain two value --a) True (any number)\n",
    "                                         b) Flase (0)"
   ]
  },
  {
   "cell_type": "code",
   "execution_count": 16,
   "id": "4b01eeb3",
   "metadata": {
    "ExecuteTime": {
     "end_time": "2023-01-14T13:02:39.002746Z",
     "start_time": "2023-01-14T13:02:38.992785Z"
    }
   },
   "outputs": [
    {
     "name": "stdout",
     "output_type": "stream",
     "text": [
      "<class 'int'>\n"
     ]
    }
   ],
   "source": [
    "# Integer\n",
    "\n",
    "a = 500\n",
    "print(type(a))"
   ]
  },
  {
   "cell_type": "code",
   "execution_count": 17,
   "id": "f98edfce",
   "metadata": {
    "ExecuteTime": {
     "end_time": "2023-01-14T13:03:20.337933Z",
     "start_time": "2023-01-14T13:03:20.326391Z"
    }
   },
   "outputs": [
    {
     "data": {
      "text/plain": [
       "float"
      ]
     },
     "execution_count": 17,
     "metadata": {},
     "output_type": "execute_result"
    }
   ],
   "source": [
    "f = 10.8\n",
    "type(f)"
   ]
  },
  {
   "cell_type": "code",
   "execution_count": 18,
   "id": "e08f12ca",
   "metadata": {
    "ExecuteTime": {
     "end_time": "2023-01-14T13:04:41.880792Z",
     "start_time": "2023-01-14T13:04:41.874223Z"
    }
   },
   "outputs": [],
   "source": [
    "s = 'This is python class'\n",
    "s1 = \"This is python class\"\n",
    "s2 = '''This is python class'''"
   ]
  },
  {
   "cell_type": "code",
   "execution_count": 19,
   "id": "6e2f3880",
   "metadata": {
    "ExecuteTime": {
     "end_time": "2023-01-14T13:05:05.127554Z",
     "start_time": "2023-01-14T13:05:05.119554Z"
    }
   },
   "outputs": [
    {
     "data": {
      "text/plain": [
       "True"
      ]
     },
     "execution_count": 19,
     "metadata": {},
     "output_type": "execute_result"
    }
   ],
   "source": [
    "s1==s2"
   ]
  },
  {
   "cell_type": "markdown",
   "id": "59c07b79",
   "metadata": {},
   "source": [
    "# Typecasting\n",
    "\n",
    ". Typecasting is used to change the data types "
   ]
  },
  {
   "cell_type": "code",
   "execution_count": 20,
   "id": "fddc173c",
   "metadata": {
    "ExecuteTime": {
     "end_time": "2023-01-14T13:15:44.049236Z",
     "start_time": "2023-01-14T13:15:44.028205Z"
    }
   },
   "outputs": [
    {
     "data": {
      "text/plain": [
       "float"
      ]
     },
     "execution_count": 20,
     "metadata": {},
     "output_type": "execute_result"
    }
   ],
   "source": [
    "a = 10.8 \n",
    "type(a)"
   ]
  },
  {
   "cell_type": "code",
   "execution_count": 23,
   "id": "2b83e1fa",
   "metadata": {
    "ExecuteTime": {
     "end_time": "2023-01-14T13:16:14.452378Z",
     "start_time": "2023-01-14T13:16:14.430574Z"
    }
   },
   "outputs": [
    {
     "data": {
      "text/plain": [
       "int"
      ]
     },
     "execution_count": 23,
     "metadata": {},
     "output_type": "execute_result"
    }
   ],
   "source": [
    "a = int(a)\n",
    "type(a)"
   ]
  },
  {
   "cell_type": "code",
   "execution_count": 24,
   "id": "bac984a1",
   "metadata": {
    "ExecuteTime": {
     "end_time": "2023-01-14T13:17:05.895315Z",
     "start_time": "2023-01-14T13:17:05.888948Z"
    }
   },
   "outputs": [
    {
     "name": "stdout",
     "output_type": "stream",
     "text": [
      "<class 'str'>\n",
      "10\n"
     ]
    }
   ],
   "source": [
    "a = str(a)\n",
    "print(type(a))\n",
    "print(a)"
   ]
  },
  {
   "cell_type": "code",
   "execution_count": 29,
   "id": "ff6795e8",
   "metadata": {
    "ExecuteTime": {
     "end_time": "2023-01-14T13:19:12.912581Z",
     "start_time": "2023-01-14T13:19:12.905523Z"
    }
   },
   "outputs": [],
   "source": [
    "k = 10"
   ]
  },
  {
   "cell_type": "code",
   "execution_count": 30,
   "id": "b447fe36",
   "metadata": {
    "ExecuteTime": {
     "end_time": "2023-01-14T13:19:32.591421Z",
     "start_time": "2023-01-14T13:19:32.582425Z"
    }
   },
   "outputs": [
    {
     "data": {
      "text/plain": [
       "10.0"
      ]
     },
     "execution_count": 30,
     "metadata": {},
     "output_type": "execute_result"
    }
   ],
   "source": [
    "float(k)"
   ]
  },
  {
   "cell_type": "code",
   "execution_count": 25,
   "id": "027f2959",
   "metadata": {
    "ExecuteTime": {
     "end_time": "2023-01-14T13:17:22.664383Z",
     "start_time": "2023-01-14T13:17:22.642728Z"
    }
   },
   "outputs": [
    {
     "data": {
      "text/plain": [
       "'10'"
      ]
     },
     "execution_count": 25,
     "metadata": {},
     "output_type": "execute_result"
    }
   ],
   "source": [
    "a"
   ]
  },
  {
   "cell_type": "code",
   "execution_count": 26,
   "id": "c8b2513b",
   "metadata": {
    "ExecuteTime": {
     "end_time": "2023-01-14T13:17:39.572565Z",
     "start_time": "2023-01-14T13:17:39.566540Z"
    }
   },
   "outputs": [],
   "source": [
    "b = 500"
   ]
  },
  {
   "cell_type": "code",
   "execution_count": 27,
   "id": "937b69ca",
   "metadata": {
    "ExecuteTime": {
     "end_time": "2023-01-14T13:17:49.573482Z",
     "start_time": "2023-01-14T13:17:49.559458Z"
    }
   },
   "outputs": [
    {
     "data": {
      "text/plain": [
       "True"
      ]
     },
     "execution_count": 27,
     "metadata": {},
     "output_type": "execute_result"
    }
   ],
   "source": [
    "bool(b)"
   ]
  },
  {
   "cell_type": "code",
   "execution_count": 28,
   "id": "ea19878f",
   "metadata": {
    "ExecuteTime": {
     "end_time": "2023-01-14T13:18:14.076236Z",
     "start_time": "2023-01-14T13:18:14.060321Z"
    }
   },
   "outputs": [],
   "source": [
    "z = 0"
   ]
  },
  {
   "cell_type": "code",
   "execution_count": 31,
   "id": "a9eaa2d4",
   "metadata": {
    "ExecuteTime": {
     "end_time": "2023-01-14T13:19:57.787270Z",
     "start_time": "2023-01-14T13:19:57.773883Z"
    }
   },
   "outputs": [
    {
     "data": {
      "text/plain": [
       "False"
      ]
     },
     "execution_count": 31,
     "metadata": {},
     "output_type": "execute_result"
    }
   ],
   "source": [
    "bool(z)"
   ]
  },
  {
   "cell_type": "markdown",
   "id": "dc4a1122",
   "metadata": {},
   "source": [
    "# String methods "
   ]
  },
  {
   "cell_type": "code",
   "execution_count": 32,
   "id": "1f4f009a",
   "metadata": {
    "ExecuteTime": {
     "end_time": "2023-01-14T13:23:08.807143Z",
     "start_time": "2023-01-14T13:23:08.800143Z"
    }
   },
   "outputs": [],
   "source": [
    "#Creating string\n",
    "s = 'we are learning python'"
   ]
  },
  {
   "cell_type": "code",
   "execution_count": 33,
   "id": "e00d759a",
   "metadata": {
    "ExecuteTime": {
     "end_time": "2023-01-14T13:23:22.246600Z",
     "start_time": "2023-01-14T13:23:22.239927Z"
    }
   },
   "outputs": [
    {
     "data": {
      "text/plain": [
       "'We are learning python'"
      ]
     },
     "execution_count": 33,
     "metadata": {},
     "output_type": "execute_result"
    }
   ],
   "source": [
    "s.capitalize()"
   ]
  },
  {
   "cell_type": "code",
   "execution_count": 34,
   "id": "3d275e33",
   "metadata": {
    "ExecuteTime": {
     "end_time": "2023-01-14T13:24:22.448300Z",
     "start_time": "2023-01-14T13:24:22.436348Z"
    }
   },
   "outputs": [
    {
     "data": {
      "text/plain": [
       "1"
      ]
     },
     "execution_count": 34,
     "metadata": {},
     "output_type": "execute_result"
    }
   ],
   "source": [
    "s.count('i')"
   ]
  },
  {
   "cell_type": "code",
   "execution_count": 36,
   "id": "1574233b",
   "metadata": {
    "ExecuteTime": {
     "end_time": "2023-01-14T13:24:47.504878Z",
     "start_time": "2023-01-14T13:24:47.493451Z"
    }
   },
   "outputs": [
    {
     "data": {
      "text/plain": [
       "3"
      ]
     },
     "execution_count": 36,
     "metadata": {},
     "output_type": "execute_result"
    }
   ],
   "source": [
    "s.count('e')"
   ]
  },
  {
   "cell_type": "code",
   "execution_count": 37,
   "id": "3afb36bc",
   "metadata": {
    "ExecuteTime": {
     "end_time": "2023-01-14T13:25:45.576248Z",
     "start_time": "2023-01-14T13:25:45.569013Z"
    }
   },
   "outputs": [
    {
     "data": {
      "text/plain": [
       "False"
      ]
     },
     "execution_count": 37,
     "metadata": {},
     "output_type": "execute_result"
    }
   ],
   "source": [
    "s.endswith('N')"
   ]
  },
  {
   "cell_type": "code",
   "execution_count": 38,
   "id": "82fa6444",
   "metadata": {
    "ExecuteTime": {
     "end_time": "2023-01-14T13:26:00.809847Z",
     "start_time": "2023-01-14T13:26:00.793304Z"
    }
   },
   "outputs": [
    {
     "data": {
      "text/plain": [
       "True"
      ]
     },
     "execution_count": 38,
     "metadata": {},
     "output_type": "execute_result"
    }
   ],
   "source": [
    "s.endswith('n')"
   ]
  },
  {
   "cell_type": "code",
   "execution_count": 39,
   "id": "5d95000d",
   "metadata": {
    "ExecuteTime": {
     "end_time": "2023-01-14T13:26:28.186281Z",
     "start_time": "2023-01-14T13:26:28.175128Z"
    }
   },
   "outputs": [
    {
     "data": {
      "text/plain": [
       "3"
      ]
     },
     "execution_count": 39,
     "metadata": {},
     "output_type": "execute_result"
    }
   ],
   "source": [
    "s.find('are')"
   ]
  },
  {
   "cell_type": "code",
   "execution_count": 40,
   "id": "500c4d7b",
   "metadata": {
    "ExecuteTime": {
     "end_time": "2023-01-14T13:26:56.983948Z",
     "start_time": "2023-01-14T13:26:56.973677Z"
    }
   },
   "outputs": [
    {
     "data": {
      "text/plain": [
       "16"
      ]
     },
     "execution_count": 40,
     "metadata": {},
     "output_type": "execute_result"
    }
   ],
   "source": [
    "s.index('p')"
   ]
  },
  {
   "cell_type": "code",
   "execution_count": 41,
   "id": "f07eb388",
   "metadata": {
    "ExecuteTime": {
     "end_time": "2023-01-14T13:28:20.127301Z",
     "start_time": "2023-01-14T13:28:20.113284Z"
    }
   },
   "outputs": [
    {
     "data": {
      "text/plain": [
       "True"
      ]
     },
     "execution_count": 41,
     "metadata": {},
     "output_type": "execute_result"
    }
   ],
   "source": [
    "s.islower()"
   ]
  },
  {
   "cell_type": "code",
   "execution_count": 42,
   "id": "841839ed",
   "metadata": {
    "ExecuteTime": {
     "end_time": "2023-01-14T13:29:27.625326Z",
     "start_time": "2023-01-14T13:29:27.606495Z"
    }
   },
   "outputs": [
    {
     "data": {
      "text/plain": [
       "'w-e- -a-r-e- -l-e-a-r-n-i-n-g- -p-y-t-h-o-n'"
      ]
     },
     "execution_count": 42,
     "metadata": {},
     "output_type": "execute_result"
    }
   ],
   "source": [
    "'-'.join(s)"
   ]
  },
  {
   "cell_type": "code",
   "execution_count": 43,
   "id": "cc9edebf",
   "metadata": {
    "ExecuteTime": {
     "end_time": "2023-01-14T13:29:57.455485Z",
     "start_time": "2023-01-14T13:29:57.436822Z"
    }
   },
   "outputs": [
    {
     "data": {
      "text/plain": [
       "'w*e* *a*r*e* *l*e*a*r*n*i*n*g* *p*y*t*h*o*n'"
      ]
     },
     "execution_count": 43,
     "metadata": {},
     "output_type": "execute_result"
    }
   ],
   "source": [
    "'*'.join(s)"
   ]
  },
  {
   "cell_type": "code",
   "execution_count": 44,
   "id": "7e17864a",
   "metadata": {
    "ExecuteTime": {
     "end_time": "2023-01-14T13:30:18.182430Z",
     "start_time": "2023-01-14T13:30:18.165108Z"
    }
   },
   "outputs": [
    {
     "data": {
      "text/plain": [
       "'we are learning python'"
      ]
     },
     "execution_count": 44,
     "metadata": {},
     "output_type": "execute_result"
    }
   ],
   "source": [
    "s"
   ]
  },
  {
   "cell_type": "code",
   "execution_count": 45,
   "id": "602d1f7f",
   "metadata": {
    "ExecuteTime": {
     "end_time": "2023-01-14T13:31:02.757775Z",
     "start_time": "2023-01-14T13:31:02.744676Z"
    }
   },
   "outputs": [],
   "source": [
    "s = s.replace(' ','-')"
   ]
  },
  {
   "cell_type": "code",
   "execution_count": 46,
   "id": "89c3c7f4",
   "metadata": {
    "ExecuteTime": {
     "end_time": "2023-01-14T13:31:21.553091Z",
     "start_time": "2023-01-14T13:31:21.531065Z"
    }
   },
   "outputs": [
    {
     "data": {
      "text/plain": [
       "'we-are-learning-python'"
      ]
     },
     "execution_count": 46,
     "metadata": {},
     "output_type": "execute_result"
    }
   ],
   "source": [
    "s"
   ]
  },
  {
   "cell_type": "code",
   "execution_count": 47,
   "id": "a7de0123",
   "metadata": {
    "ExecuteTime": {
     "end_time": "2023-01-14T13:31:48.849349Z",
     "start_time": "2023-01-14T13:31:48.829374Z"
    }
   },
   "outputs": [
    {
     "data": {
      "text/plain": [
       "'They-are-learning-python'"
      ]
     },
     "execution_count": 47,
     "metadata": {},
     "output_type": "execute_result"
    }
   ],
   "source": [
    "s.replace('we','They')"
   ]
  },
  {
   "cell_type": "code",
   "execution_count": 59,
   "id": "46b249cd",
   "metadata": {
    "ExecuteTime": {
     "end_time": "2023-01-14T13:39:26.994644Z",
     "start_time": "2023-01-14T13:39:26.978641Z"
    }
   },
   "outputs": [
    {
     "data": {
      "text/plain": [
       "'we#are#learning#python'"
      ]
     },
     "execution_count": 59,
     "metadata": {},
     "output_type": "execute_result"
    }
   ],
   "source": [
    "s.replace('-','#')\n",
    "s"
   ]
  },
  {
   "cell_type": "code",
   "execution_count": 52,
   "id": "76984779",
   "metadata": {
    "ExecuteTime": {
     "end_time": "2023-01-14T13:34:30.525690Z",
     "start_time": "2023-01-14T13:34:30.514312Z"
    }
   },
   "outputs": [
    {
     "data": {
      "text/plain": [
       "['we', 'are', 'learning', 'python']"
      ]
     },
     "execution_count": 52,
     "metadata": {},
     "output_type": "execute_result"
    }
   ],
   "source": [
    "s.split('#')"
   ]
  },
  {
   "cell_type": "code",
   "execution_count": 55,
   "id": "681e848c",
   "metadata": {
    "ExecuteTime": {
     "end_time": "2023-01-14T13:36:19.777348Z",
     "start_time": "2023-01-14T13:36:19.771340Z"
    }
   },
   "outputs": [],
   "source": [
    "q = 'hussain.inamdar58@gmail.com'"
   ]
  },
  {
   "cell_type": "code",
   "execution_count": 56,
   "id": "a90f0673",
   "metadata": {
    "ExecuteTime": {
     "end_time": "2023-01-14T13:36:47.892660Z",
     "start_time": "2023-01-14T13:36:47.871626Z"
    }
   },
   "outputs": [
    {
     "data": {
      "text/plain": [
       "['hussain.inamdar58', 'gmail.com']"
      ]
     },
     "execution_count": 56,
     "metadata": {},
     "output_type": "execute_result"
    }
   ],
   "source": [
    "q.split('@')"
   ]
  },
  {
   "cell_type": "code",
   "execution_count": 64,
   "id": "e6fb46df",
   "metadata": {
    "ExecuteTime": {
     "end_time": "2023-01-14T13:40:30.343827Z",
     "start_time": "2023-01-14T13:40:30.326347Z"
    }
   },
   "outputs": [
    {
     "data": {
      "text/plain": [
       "'we are learning python'"
      ]
     },
     "execution_count": 64,
     "metadata": {},
     "output_type": "execute_result"
    }
   ],
   "source": [
    "s = s.replace('#',' ')\n",
    "s"
   ]
  },
  {
   "cell_type": "code",
   "execution_count": 65,
   "id": "b88fd7fe",
   "metadata": {
    "ExecuteTime": {
     "end_time": "2023-01-14T13:40:33.904116Z",
     "start_time": "2023-01-14T13:40:33.887829Z"
    }
   },
   "outputs": [
    {
     "data": {
      "text/plain": [
       "'WE ARE LEARNING PYTHON'"
      ]
     },
     "execution_count": 65,
     "metadata": {},
     "output_type": "execute_result"
    }
   ],
   "source": [
    "s.swapcase()"
   ]
  },
  {
   "cell_type": "code",
   "execution_count": 66,
   "id": "72a6c33b",
   "metadata": {
    "ExecuteTime": {
     "end_time": "2023-01-14T13:41:01.643411Z",
     "start_time": "2023-01-14T13:41:01.636737Z"
    }
   },
   "outputs": [
    {
     "data": {
      "text/plain": [
       "'WE ARE LEARNING PYTHON'"
      ]
     },
     "execution_count": 66,
     "metadata": {},
     "output_type": "execute_result"
    }
   ],
   "source": [
    "s.upper()"
   ]
  },
  {
   "cell_type": "code",
   "execution_count": 67,
   "id": "e466d88d",
   "metadata": {
    "ExecuteTime": {
     "end_time": "2023-01-14T13:41:15.782790Z",
     "start_time": "2023-01-14T13:41:15.771153Z"
    }
   },
   "outputs": [
    {
     "data": {
      "text/plain": [
       "'we are learning python'"
      ]
     },
     "execution_count": 67,
     "metadata": {},
     "output_type": "execute_result"
    }
   ],
   "source": [
    "s.lower()"
   ]
  },
  {
   "cell_type": "code",
   "execution_count": 68,
   "id": "ca78375c",
   "metadata": {
    "ExecuteTime": {
     "end_time": "2023-01-14T13:41:30.416846Z",
     "start_time": "2023-01-14T13:41:30.399375Z"
    }
   },
   "outputs": [
    {
     "data": {
      "text/plain": [
       "'We Are Learning Python'"
      ]
     },
     "execution_count": 68,
     "metadata": {},
     "output_type": "execute_result"
    }
   ],
   "source": [
    "s.title()"
   ]
  }
 ],
 "metadata": {
  "kernelspec": {
   "display_name": "Python 3 (ipykernel)",
   "language": "python",
   "name": "python3"
  },
  "language_info": {
   "codemirror_mode": {
    "name": "ipython",
    "version": 3
   },
   "file_extension": ".py",
   "mimetype": "text/x-python",
   "name": "python",
   "nbconvert_exporter": "python",
   "pygments_lexer": "ipython3",
   "version": "3.9.13"
  }
 },
 "nbformat": 4,
 "nbformat_minor": 5
}
