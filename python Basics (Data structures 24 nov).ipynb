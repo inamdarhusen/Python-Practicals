{
 "cells": [
  {
   "cell_type": "markdown",
   "id": "df6cc64c",
   "metadata": {},
   "source": [
    "# Data Structures \n",
    "1. List\n",
    "2. Tuple\n",
    "3. dictionary\n",
    "4. sets"
   ]
  },
  {
   "cell_type": "markdown",
   "id": "67222865",
   "metadata": {
    "ExecuteTime": {
     "end_time": "2023-01-15T07:08:03.662644Z",
     "start_time": "2023-01-15T07:08:03.654055Z"
    }
   },
   "source": [
    "# 1) Lists :-\n",
    "- List are the built in data structure in python.\n",
    "\n",
    "- List are hetrogenous data structure.\n",
    "\n",
    "- List are mutable."
   ]
  },
  {
   "cell_type": "code",
   "execution_count": 1,
   "id": "70a59912",
   "metadata": {
    "ExecuteTime": {
     "end_time": "2023-01-15T13:24:55.687032Z",
     "start_time": "2023-01-15T13:24:55.679019Z"
    }
   },
   "outputs": [],
   "source": [
    "#Creating lists"
   ]
  },
  {
   "cell_type": "code",
   "execution_count": 2,
   "id": "2a4fa14c",
   "metadata": {
    "ExecuteTime": {
     "end_time": "2023-01-15T13:24:55.728330Z",
     "start_time": "2023-01-15T13:24:55.687032Z"
    }
   },
   "outputs": [],
   "source": [
    "lst = []"
   ]
  },
  {
   "cell_type": "code",
   "execution_count": 3,
   "id": "3d2ef2cd",
   "metadata": {
    "ExecuteTime": {
     "end_time": "2023-01-15T13:24:55.744408Z",
     "start_time": "2023-01-15T13:24:55.728330Z"
    }
   },
   "outputs": [
    {
     "data": {
      "text/plain": [
       "list"
      ]
     },
     "execution_count": 3,
     "metadata": {},
     "output_type": "execute_result"
    }
   ],
   "source": [
    "type(lst)"
   ]
  },
  {
   "cell_type": "code",
   "execution_count": 4,
   "id": "b26f8aaf",
   "metadata": {
    "ExecuteTime": {
     "end_time": "2023-01-15T13:24:55.760448Z",
     "start_time": "2023-01-15T13:24:55.744408Z"
    }
   },
   "outputs": [],
   "source": [
    "lst = [10,10.5,True, 'Hello']"
   ]
  },
  {
   "cell_type": "code",
   "execution_count": 5,
   "id": "510a7d9c",
   "metadata": {
    "ExecuteTime": {
     "end_time": "2023-01-15T13:24:55.776611Z",
     "start_time": "2023-01-15T13:24:55.760448Z"
    }
   },
   "outputs": [
    {
     "data": {
      "text/plain": [
       "[10, 10.5, True, 'Hello']"
      ]
     },
     "execution_count": 5,
     "metadata": {},
     "output_type": "execute_result"
    }
   ],
   "source": [
    "lst"
   ]
  },
  {
   "cell_type": "code",
   "execution_count": 6,
   "id": "4b4bf691",
   "metadata": {
    "ExecuteTime": {
     "end_time": "2023-01-15T13:24:55.792611Z",
     "start_time": "2023-01-15T13:24:55.784612Z"
    }
   },
   "outputs": [
    {
     "data": {
      "text/plain": [
       "list"
      ]
     },
     "execution_count": 6,
     "metadata": {},
     "output_type": "execute_result"
    }
   ],
   "source": [
    "type(lst)"
   ]
  },
  {
   "cell_type": "code",
   "execution_count": 7,
   "id": "f73c694a",
   "metadata": {
    "ExecuteTime": {
     "end_time": "2023-01-15T13:24:55.808714Z",
     "start_time": "2023-01-15T13:24:55.792611Z"
    }
   },
   "outputs": [],
   "source": [
    "lst1 = list()"
   ]
  },
  {
   "cell_type": "code",
   "execution_count": 8,
   "id": "0c270e78",
   "metadata": {
    "ExecuteTime": {
     "end_time": "2023-01-15T13:24:55.824758Z",
     "start_time": "2023-01-15T13:24:55.808714Z"
    }
   },
   "outputs": [
    {
     "data": {
      "text/plain": [
       "list"
      ]
     },
     "execution_count": 8,
     "metadata": {},
     "output_type": "execute_result"
    }
   ],
   "source": [
    "type(lst1)"
   ]
  },
  {
   "cell_type": "code",
   "execution_count": 9,
   "id": "cd83525e",
   "metadata": {
    "ExecuteTime": {
     "end_time": "2023-01-15T13:24:55.841105Z",
     "start_time": "2023-01-15T13:24:55.824758Z"
    }
   },
   "outputs": [
    {
     "data": {
      "text/plain": [
       "[10, 10.5, True, 'Hello']"
      ]
     },
     "execution_count": 9,
     "metadata": {},
     "output_type": "execute_result"
    }
   ],
   "source": [
    "lst"
   ]
  },
  {
   "cell_type": "code",
   "execution_count": 10,
   "id": "ea00f1b5",
   "metadata": {
    "ExecuteTime": {
     "end_time": "2023-01-15T13:24:55.857662Z",
     "start_time": "2023-01-15T13:24:55.841815Z"
    }
   },
   "outputs": [],
   "source": [
    "# Accessing element from a list"
   ]
  },
  {
   "cell_type": "code",
   "execution_count": 11,
   "id": "18970202",
   "metadata": {
    "ExecuteTime": {
     "end_time": "2023-01-15T13:24:55.873671Z",
     "start_time": "2023-01-15T13:24:55.857662Z"
    }
   },
   "outputs": [
    {
     "data": {
      "text/plain": [
       "'Hello'"
      ]
     },
     "execution_count": 11,
     "metadata": {},
     "output_type": "execute_result"
    }
   ],
   "source": [
    "lst[3]"
   ]
  },
  {
   "cell_type": "code",
   "execution_count": 12,
   "id": "c91ddf3a",
   "metadata": {
    "ExecuteTime": {
     "end_time": "2023-01-15T13:24:55.889892Z",
     "start_time": "2023-01-15T13:24:55.874371Z"
    }
   },
   "outputs": [
    {
     "data": {
      "text/plain": [
       "[10.5, True]"
      ]
     },
     "execution_count": 12,
     "metadata": {},
     "output_type": "execute_result"
    }
   ],
   "source": [
    "lst[1:3]"
   ]
  },
  {
   "cell_type": "code",
   "execution_count": 13,
   "id": "167da73b",
   "metadata": {
    "ExecuteTime": {
     "end_time": "2023-01-15T13:24:55.906118Z",
     "start_time": "2023-01-15T13:24:55.889892Z"
    }
   },
   "outputs": [
    {
     "data": {
      "text/plain": [
       "'Hello'"
      ]
     },
     "execution_count": 13,
     "metadata": {},
     "output_type": "execute_result"
    }
   ],
   "source": [
    "lst[-1]"
   ]
  },
  {
   "cell_type": "code",
   "execution_count": 14,
   "id": "c700cb7b",
   "metadata": {
    "ExecuteTime": {
     "end_time": "2023-01-15T13:24:55.914474Z",
     "start_time": "2023-01-15T13:24:55.906118Z"
    }
   },
   "outputs": [],
   "source": [
    "# append "
   ]
  },
  {
   "cell_type": "code",
   "execution_count": 15,
   "id": "d79269a4",
   "metadata": {
    "ExecuteTime": {
     "end_time": "2023-01-15T13:24:55.930483Z",
     "start_time": "2023-01-15T13:24:55.914474Z"
    }
   },
   "outputs": [],
   "source": [
    "lst.append(1000)"
   ]
  },
  {
   "cell_type": "code",
   "execution_count": 16,
   "id": "c0408521",
   "metadata": {
    "ExecuteTime": {
     "end_time": "2023-01-15T13:24:55.954532Z",
     "start_time": "2023-01-15T13:24:55.930483Z"
    }
   },
   "outputs": [
    {
     "data": {
      "text/plain": [
       "[10, 10.5, True, 'Hello', 1000]"
      ]
     },
     "execution_count": 16,
     "metadata": {},
     "output_type": "execute_result"
    }
   ],
   "source": [
    "lst"
   ]
  },
  {
   "cell_type": "code",
   "execution_count": 17,
   "id": "ec03ba97",
   "metadata": {
    "ExecuteTime": {
     "end_time": "2023-01-15T13:24:55.962544Z",
     "start_time": "2023-01-15T13:24:55.954532Z"
    }
   },
   "outputs": [],
   "source": [
    "# Count"
   ]
  },
  {
   "cell_type": "code",
   "execution_count": 18,
   "id": "421e173b",
   "metadata": {
    "ExecuteTime": {
     "end_time": "2023-01-15T13:24:55.978998Z",
     "start_time": "2023-01-15T13:24:55.962544Z"
    }
   },
   "outputs": [
    {
     "data": {
      "text/plain": [
       "1"
      ]
     },
     "execution_count": 18,
     "metadata": {},
     "output_type": "execute_result"
    }
   ],
   "source": [
    "lst.count(1000)"
   ]
  },
  {
   "cell_type": "code",
   "execution_count": 19,
   "id": "74bbc4a3",
   "metadata": {
    "ExecuteTime": {
     "end_time": "2023-01-15T13:24:55.995686Z",
     "start_time": "2023-01-15T13:24:55.979659Z"
    }
   },
   "outputs": [
    {
     "data": {
      "text/plain": [
       "0"
      ]
     },
     "execution_count": 19,
     "metadata": {},
     "output_type": "execute_result"
    }
   ],
   "source": [
    "lst.count(50)"
   ]
  },
  {
   "cell_type": "code",
   "execution_count": 20,
   "id": "c0b0643b",
   "metadata": {
    "ExecuteTime": {
     "end_time": "2023-01-15T13:24:56.012114Z",
     "start_time": "2023-01-15T13:24:55.995686Z"
    }
   },
   "outputs": [],
   "source": [
    "# Index "
   ]
  },
  {
   "cell_type": "code",
   "execution_count": 21,
   "id": "c2387b9d",
   "metadata": {
    "ExecuteTime": {
     "end_time": "2023-01-15T13:24:56.036167Z",
     "start_time": "2023-01-15T13:24:56.012114Z"
    }
   },
   "outputs": [
    {
     "data": {
      "text/plain": [
       "1"
      ]
     },
     "execution_count": 21,
     "metadata": {},
     "output_type": "execute_result"
    }
   ],
   "source": [
    "lst.index(10.5)"
   ]
  },
  {
   "cell_type": "code",
   "execution_count": 22,
   "id": "5bf4dfbd",
   "metadata": {
    "ExecuteTime": {
     "end_time": "2023-01-15T13:24:56.049556Z",
     "start_time": "2023-01-15T13:24:56.036167Z"
    }
   },
   "outputs": [
    {
     "data": {
      "text/plain": [
       "[10, 10.5, True, 'Hello', 1000]"
      ]
     },
     "execution_count": 22,
     "metadata": {},
     "output_type": "execute_result"
    }
   ],
   "source": [
    "lst"
   ]
  },
  {
   "cell_type": "code",
   "execution_count": 23,
   "id": "22b5b4ca",
   "metadata": {
    "ExecuteTime": {
     "end_time": "2023-01-15T13:24:56.060594Z",
     "start_time": "2023-01-15T13:24:56.052577Z"
    }
   },
   "outputs": [],
   "source": [
    "# Insert "
   ]
  },
  {
   "cell_type": "code",
   "execution_count": 24,
   "id": "7a7ef6f3",
   "metadata": {
    "ExecuteTime": {
     "end_time": "2023-01-15T13:24:56.076969Z",
     "start_time": "2023-01-15T13:24:56.060594Z"
    }
   },
   "outputs": [],
   "source": [
    "lst.insert(0,50)"
   ]
  },
  {
   "cell_type": "code",
   "execution_count": 25,
   "id": "477143e3",
   "metadata": {
    "ExecuteTime": {
     "end_time": "2023-01-15T13:24:56.084935Z",
     "start_time": "2023-01-15T13:24:56.076969Z"
    }
   },
   "outputs": [
    {
     "data": {
      "text/plain": [
       "[50, 10, 10.5, True, 'Hello', 1000]"
      ]
     },
     "execution_count": 25,
     "metadata": {},
     "output_type": "execute_result"
    }
   ],
   "source": [
    "lst"
   ]
  },
  {
   "cell_type": "code",
   "execution_count": 26,
   "id": "6a696bb8",
   "metadata": {
    "ExecuteTime": {
     "end_time": "2023-01-15T13:24:56.101301Z",
     "start_time": "2023-01-15T13:24:56.085460Z"
    }
   },
   "outputs": [],
   "source": [
    "# Pop"
   ]
  },
  {
   "cell_type": "code",
   "execution_count": 27,
   "id": "8b9b4071",
   "metadata": {
    "ExecuteTime": {
     "end_time": "2023-01-15T13:24:56.117297Z",
     "start_time": "2023-01-15T13:24:56.101301Z"
    }
   },
   "outputs": [
    {
     "data": {
      "text/plain": [
       "1000"
      ]
     },
     "execution_count": 27,
     "metadata": {},
     "output_type": "execute_result"
    }
   ],
   "source": [
    "lst.pop()"
   ]
  },
  {
   "cell_type": "code",
   "execution_count": 28,
   "id": "31cf6778",
   "metadata": {
    "ExecuteTime": {
     "end_time": "2023-01-15T13:24:56.133316Z",
     "start_time": "2023-01-15T13:24:56.117297Z"
    }
   },
   "outputs": [
    {
     "data": {
      "text/plain": [
       "[50, 10, 10.5, True, 'Hello']"
      ]
     },
     "execution_count": 28,
     "metadata": {},
     "output_type": "execute_result"
    }
   ],
   "source": [
    "lst"
   ]
  },
  {
   "cell_type": "code",
   "execution_count": 29,
   "id": "7819605c",
   "metadata": {
    "ExecuteTime": {
     "end_time": "2023-01-15T13:24:56.149848Z",
     "start_time": "2023-01-15T13:24:56.141339Z"
    }
   },
   "outputs": [],
   "source": [
    "# Reverse"
   ]
  },
  {
   "cell_type": "code",
   "execution_count": 30,
   "id": "71ffc64f",
   "metadata": {
    "ExecuteTime": {
     "end_time": "2023-01-15T13:24:56.158114Z",
     "start_time": "2023-01-15T13:24:56.149848Z"
    }
   },
   "outputs": [],
   "source": [
    "lst.reverse()"
   ]
  },
  {
   "cell_type": "code",
   "execution_count": 31,
   "id": "5494edac",
   "metadata": {
    "ExecuteTime": {
     "end_time": "2023-01-15T13:24:56.174470Z",
     "start_time": "2023-01-15T13:24:56.160397Z"
    }
   },
   "outputs": [
    {
     "data": {
      "text/plain": [
       "['Hello', True, 10.5, 10, 50]"
      ]
     },
     "execution_count": 31,
     "metadata": {},
     "output_type": "execute_result"
    }
   ],
   "source": [
    "lst"
   ]
  },
  {
   "cell_type": "code",
   "execution_count": 32,
   "id": "073770f3",
   "metadata": {
    "ExecuteTime": {
     "end_time": "2023-01-15T13:24:56.190825Z",
     "start_time": "2023-01-15T13:24:56.174470Z"
    }
   },
   "outputs": [],
   "source": [
    "# Remove"
   ]
  },
  {
   "cell_type": "code",
   "execution_count": 33,
   "id": "8db737d1",
   "metadata": {
    "ExecuteTime": {
     "end_time": "2023-01-15T13:24:56.207421Z",
     "start_time": "2023-01-15T13:24:56.190825Z"
    }
   },
   "outputs": [],
   "source": [
    "lst.remove(10.5)"
   ]
  },
  {
   "cell_type": "code",
   "execution_count": 34,
   "id": "458b1a75",
   "metadata": {
    "ExecuteTime": {
     "end_time": "2023-01-15T13:24:56.215649Z",
     "start_time": "2023-01-15T13:24:56.208639Z"
    }
   },
   "outputs": [
    {
     "data": {
      "text/plain": [
       "['Hello', True, 10, 50]"
      ]
     },
     "execution_count": 34,
     "metadata": {},
     "output_type": "execute_result"
    }
   ],
   "source": [
    "lst"
   ]
  },
  {
   "cell_type": "code",
   "execution_count": 35,
   "id": "7e690bc0",
   "metadata": {
    "ExecuteTime": {
     "end_time": "2023-01-15T13:24:56.223415Z",
     "start_time": "2023-01-15T13:24:56.215649Z"
    }
   },
   "outputs": [],
   "source": [
    "# Replacing element in lists"
   ]
  },
  {
   "cell_type": "code",
   "execution_count": 36,
   "id": "981feaae",
   "metadata": {
    "ExecuteTime": {
     "end_time": "2023-01-15T13:24:56.239761Z",
     "start_time": "2023-01-15T13:24:56.223415Z"
    }
   },
   "outputs": [],
   "source": [
    "lst[1]= False"
   ]
  },
  {
   "cell_type": "code",
   "execution_count": 37,
   "id": "a5ef5bd8",
   "metadata": {
    "ExecuteTime": {
     "end_time": "2023-01-15T13:24:56.248193Z",
     "start_time": "2023-01-15T13:24:56.239761Z"
    }
   },
   "outputs": [
    {
     "data": {
      "text/plain": [
       "['Hello', False, 10, 50]"
      ]
     },
     "execution_count": 37,
     "metadata": {},
     "output_type": "execute_result"
    }
   ],
   "source": [
    "lst"
   ]
  },
  {
   "cell_type": "code",
   "execution_count": 38,
   "id": "2cfa8119",
   "metadata": {
    "ExecuteTime": {
     "end_time": "2023-01-15T13:24:56.256498Z",
     "start_time": "2023-01-15T13:24:56.249702Z"
    }
   },
   "outputs": [],
   "source": [
    "lst[-1] = 5000"
   ]
  },
  {
   "cell_type": "code",
   "execution_count": 39,
   "id": "64accb9d",
   "metadata": {
    "ExecuteTime": {
     "end_time": "2023-01-15T13:24:56.272743Z",
     "start_time": "2023-01-15T13:24:56.256498Z"
    }
   },
   "outputs": [
    {
     "data": {
      "text/plain": [
       "['Hello', False, 10, 5000]"
      ]
     },
     "execution_count": 39,
     "metadata": {},
     "output_type": "execute_result"
    }
   ],
   "source": [
    "lst"
   ]
  },
  {
   "cell_type": "markdown",
   "id": "6376aed3",
   "metadata": {
    "ExecuteTime": {
     "end_time": "2023-01-15T07:33:01.302307Z",
     "start_time": "2023-01-15T07:33:01.286932Z"
    }
   },
   "source": [
    "# 2) Tuple :-\n",
    "\n",
    "- Tuple are ordered and heterogenoud data structure.\n",
    "\n",
    "- Tuple are Immutable "
   ]
  },
  {
   "cell_type": "code",
   "execution_count": 54,
   "id": "cb115404",
   "metadata": {
    "ExecuteTime": {
     "end_time": "2023-01-15T13:25:21.785041Z",
     "start_time": "2023-01-15T13:25:21.769786Z"
    }
   },
   "outputs": [],
   "source": [
    "# Create a Tuple"
   ]
  },
  {
   "cell_type": "code",
   "execution_count": 55,
   "id": "271e66b5",
   "metadata": {
    "ExecuteTime": {
     "end_time": "2023-01-15T13:25:24.055172Z",
     "start_time": "2023-01-15T13:25:24.039256Z"
    }
   },
   "outputs": [],
   "source": [
    "t = (10,1.2,'Hi',1000,15.2)"
   ]
  },
  {
   "cell_type": "code",
   "execution_count": 42,
   "id": "5d83e0eb",
   "metadata": {
    "ExecuteTime": {
     "end_time": "2023-01-15T13:24:56.312699Z",
     "start_time": "2023-01-15T13:24:56.296330Z"
    }
   },
   "outputs": [
    {
     "data": {
      "text/plain": [
       "tuple"
      ]
     },
     "execution_count": 42,
     "metadata": {},
     "output_type": "execute_result"
    }
   ],
   "source": [
    "type(t)"
   ]
  },
  {
   "cell_type": "code",
   "execution_count": 43,
   "id": "4439f3c1",
   "metadata": {
    "ExecuteTime": {
     "end_time": "2023-01-15T13:24:56.329337Z",
     "start_time": "2023-01-15T13:24:56.314571Z"
    }
   },
   "outputs": [
    {
     "data": {
      "text/plain": [
       "(10, 1.2, 'Hi', 1000, 15.2)"
      ]
     },
     "execution_count": 43,
     "metadata": {},
     "output_type": "execute_result"
    }
   ],
   "source": [
    "t"
   ]
  },
  {
   "cell_type": "code",
   "execution_count": 44,
   "id": "3211a6d2",
   "metadata": {
    "ExecuteTime": {
     "end_time": "2023-01-15T13:24:56.345798Z",
     "start_time": "2023-01-15T13:24:56.329337Z"
    }
   },
   "outputs": [
    {
     "data": {
      "text/plain": [
       "1"
      ]
     },
     "execution_count": 44,
     "metadata": {},
     "output_type": "execute_result"
    }
   ],
   "source": [
    "t.count(1000)"
   ]
  },
  {
   "cell_type": "code",
   "execution_count": 45,
   "id": "ab59b88d",
   "metadata": {
    "ExecuteTime": {
     "end_time": "2023-01-15T13:24:56.362363Z",
     "start_time": "2023-01-15T13:24:56.345798Z"
    }
   },
   "outputs": [],
   "source": [
    "# Accessing element from tuple"
   ]
  },
  {
   "cell_type": "code",
   "execution_count": 46,
   "id": "00a70aa9",
   "metadata": {
    "ExecuteTime": {
     "end_time": "2023-01-15T13:24:56.370376Z",
     "start_time": "2023-01-15T13:24:56.362363Z"
    }
   },
   "outputs": [
    {
     "data": {
      "text/plain": [
       "15.2"
      ]
     },
     "execution_count": 46,
     "metadata": {},
     "output_type": "execute_result"
    }
   ],
   "source": [
    "t[4]"
   ]
  },
  {
   "cell_type": "code",
   "execution_count": 47,
   "id": "deca11b7",
   "metadata": {
    "ExecuteTime": {
     "end_time": "2023-01-15T13:24:56.394823Z",
     "start_time": "2023-01-15T13:24:56.371154Z"
    }
   },
   "outputs": [
    {
     "data": {
      "text/plain": [
       "('Hi', 1000, 15.2)"
      ]
     },
     "execution_count": 47,
     "metadata": {},
     "output_type": "execute_result"
    }
   ],
   "source": [
    "t[2:]"
   ]
  },
  {
   "cell_type": "code",
   "execution_count": 48,
   "id": "f4d0389d",
   "metadata": {
    "ExecuteTime": {
     "end_time": "2023-01-15T13:24:56.402833Z",
     "start_time": "2023-01-15T13:24:56.394823Z"
    }
   },
   "outputs": [],
   "source": [
    "# Replacing element"
   ]
  },
  {
   "cell_type": "code",
   "execution_count": 49,
   "id": "a612adb6",
   "metadata": {
    "ExecuteTime": {
     "end_time": "2023-01-15T13:24:56.427205Z",
     "start_time": "2023-01-15T13:24:56.404438Z"
    }
   },
   "outputs": [
    {
     "data": {
      "text/plain": [
       "(10, 1.2, 'Hi', 1000, 15.2)"
      ]
     },
     "execution_count": 49,
     "metadata": {},
     "output_type": "execute_result"
    }
   ],
   "source": [
    "t"
   ]
  },
  {
   "cell_type": "code",
   "execution_count": 50,
   "id": "5b0a21d9",
   "metadata": {
    "ExecuteTime": {
     "end_time": "2023-01-15T13:24:56.564020Z",
     "start_time": "2023-01-15T13:24:56.427205Z"
    }
   },
   "outputs": [
    {
     "ename": "TypeError",
     "evalue": "'tuple' object does not support item assignment",
     "output_type": "error",
     "traceback": [
      "\u001b[1;31m---------------------------------------------------------------------------\u001b[0m",
      "\u001b[1;31mTypeError\u001b[0m                                 Traceback (most recent call last)",
      "\u001b[1;32m~\\AppData\\Local\\Temp\\ipykernel_10892\\3492199082.py\u001b[0m in \u001b[0;36m<module>\u001b[1;34m\u001b[0m\n\u001b[1;32m----> 1\u001b[1;33m \u001b[0mt\u001b[0m\u001b[1;33m[\u001b[0m\u001b[1;36m4\u001b[0m\u001b[1;33m]\u001b[0m \u001b[1;33m=\u001b[0m \u001b[1;36m200\u001b[0m\u001b[1;33m\u001b[0m\u001b[1;33m\u001b[0m\u001b[0m\n\u001b[0m",
      "\u001b[1;31mTypeError\u001b[0m: 'tuple' object does not support item assignment"
     ]
    }
   ],
   "source": [
    "t[4] = 200"
   ]
  },
  {
   "cell_type": "code",
   "execution_count": 58,
   "id": "493fed86",
   "metadata": {
    "ExecuteTime": {
     "end_time": "2023-01-15T13:25:43.415552Z",
     "start_time": "2023-01-15T13:25:43.399901Z"
    }
   },
   "outputs": [
    {
     "data": {
      "text/plain": [
       "[10, 1.2, 'Hi', 1000, 15.2]"
      ]
     },
     "execution_count": 58,
     "metadata": {},
     "output_type": "execute_result"
    }
   ],
   "source": [
    "t"
   ]
  },
  {
   "cell_type": "code",
   "execution_count": 56,
   "id": "80da5850",
   "metadata": {
    "ExecuteTime": {
     "end_time": "2023-01-15T13:25:37.105757Z",
     "start_time": "2023-01-15T13:25:37.081650Z"
    }
   },
   "outputs": [],
   "source": [
    "t = list(t)"
   ]
  },
  {
   "cell_type": "code",
   "execution_count": 57,
   "id": "4068a28e",
   "metadata": {
    "ExecuteTime": {
     "end_time": "2023-01-15T13:25:38.756150Z",
     "start_time": "2023-01-15T13:25:38.740408Z"
    }
   },
   "outputs": [
    {
     "data": {
      "text/plain": [
       "list"
      ]
     },
     "execution_count": 57,
     "metadata": {},
     "output_type": "execute_result"
    }
   ],
   "source": [
    "type(t)"
   ]
  },
  {
   "cell_type": "code",
   "execution_count": null,
   "id": "b42d23e7",
   "metadata": {
    "ExecuteTime": {
     "end_time": "2023-01-15T13:24:56.564020Z",
     "start_time": "2023-01-15T13:24:56.564020Z"
    }
   },
   "outputs": [],
   "source": [
    "t[4] = 200"
   ]
  },
  {
   "cell_type": "code",
   "execution_count": 61,
   "id": "27f419be",
   "metadata": {
    "ExecuteTime": {
     "end_time": "2023-01-15T13:25:50.571500Z",
     "start_time": "2023-01-15T13:25:50.555649Z"
    }
   },
   "outputs": [
    {
     "data": {
      "text/plain": [
       "(10, 1.2, 'Hi', 1000, 15.2)"
      ]
     },
     "execution_count": 61,
     "metadata": {},
     "output_type": "execute_result"
    }
   ],
   "source": [
    "t"
   ]
  },
  {
   "cell_type": "code",
   "execution_count": 60,
   "id": "fb3b76be",
   "metadata": {
    "ExecuteTime": {
     "end_time": "2023-01-15T13:25:48.855998Z",
     "start_time": "2023-01-15T13:25:48.831417Z"
    }
   },
   "outputs": [],
   "source": [
    "t = tuple(t)"
   ]
  },
  {
   "cell_type": "code",
   "execution_count": 59,
   "id": "57aa4e1b",
   "metadata": {
    "ExecuteTime": {
     "end_time": "2023-01-15T13:25:47.221590Z",
     "start_time": "2023-01-15T13:25:47.206224Z"
    }
   },
   "outputs": [
    {
     "data": {
      "text/plain": [
       "[10, 1.2, 'Hi', 1000, 15.2]"
      ]
     },
     "execution_count": 59,
     "metadata": {},
     "output_type": "execute_result"
    }
   ],
   "source": [
    "t"
   ]
  },
  {
   "cell_type": "code",
   "execution_count": null,
   "id": "5395ec5e",
   "metadata": {
    "ExecuteTime": {
     "end_time": "2023-01-15T13:24:56.571989Z",
     "start_time": "2023-01-15T13:24:56.571989Z"
    }
   },
   "outputs": [],
   "source": [
    "type(t)"
   ]
  },
  {
   "cell_type": "markdown",
   "id": "c0049017",
   "metadata": {},
   "source": [
    "# 3) Dictionary :-\n",
    "\n",
    "- Python dictionary are ordered collection of items.\n",
    "\n",
    "- Dictionary is mutable data sturcture.\n",
    "\n",
    "- It has key and value pair."
   ]
  },
  {
   "cell_type": "code",
   "execution_count": null,
   "id": "d91e25c3",
   "metadata": {
    "ExecuteTime": {
     "end_time": "2023-01-15T13:24:56.571989Z",
     "start_time": "2023-01-15T13:24:56.571989Z"
    }
   },
   "outputs": [],
   "source": [
    "# Creating an empty dictionary "
   ]
  },
  {
   "cell_type": "code",
   "execution_count": 62,
   "id": "67df6309",
   "metadata": {
    "ExecuteTime": {
     "end_time": "2023-01-15T13:25:57.704435Z",
     "start_time": "2023-01-15T13:25:57.681146Z"
    }
   },
   "outputs": [
    {
     "data": {
      "text/plain": [
       "dict"
      ]
     },
     "execution_count": 62,
     "metadata": {},
     "output_type": "execute_result"
    }
   ],
   "source": [
    "d = {}\n",
    "type(d)"
   ]
  },
  {
   "cell_type": "code",
   "execution_count": 63,
   "id": "46ccfedc",
   "metadata": {
    "ExecuteTime": {
     "end_time": "2023-01-15T13:25:59.642322Z",
     "start_time": "2023-01-15T13:25:59.619624Z"
    }
   },
   "outputs": [
    {
     "data": {
      "text/plain": [
       "dict"
      ]
     },
     "execution_count": 63,
     "metadata": {},
     "output_type": "execute_result"
    }
   ],
   "source": [
    "d1 = dict()\n",
    "type(d1)"
   ]
  },
  {
   "cell_type": "code",
   "execution_count": 64,
   "id": "cc03e372",
   "metadata": {
    "ExecuteTime": {
     "end_time": "2023-01-15T13:26:01.823014Z",
     "start_time": "2023-01-15T13:26:01.815021Z"
    }
   },
   "outputs": [],
   "source": [
    "# Adding element in dictionary "
   ]
  },
  {
   "cell_type": "code",
   "execution_count": 65,
   "id": "a6bfca78",
   "metadata": {
    "ExecuteTime": {
     "end_time": "2023-01-15T13:26:03.401776Z",
     "start_time": "2023-01-15T13:26:03.385614Z"
    }
   },
   "outputs": [],
   "source": [
    "d = {1:10,2:'A',3:True}"
   ]
  },
  {
   "cell_type": "code",
   "execution_count": 66,
   "id": "53716231",
   "metadata": {
    "ExecuteTime": {
     "end_time": "2023-01-15T13:26:06.046180Z",
     "start_time": "2023-01-15T13:26:06.030793Z"
    }
   },
   "outputs": [
    {
     "data": {
      "text/plain": [
       "{1: 10, 2: 'A', 3: True}"
      ]
     },
     "execution_count": 66,
     "metadata": {},
     "output_type": "execute_result"
    }
   ],
   "source": [
    "d"
   ]
  },
  {
   "cell_type": "code",
   "execution_count": 67,
   "id": "57cf8715",
   "metadata": {
    "ExecuteTime": {
     "end_time": "2023-01-15T13:26:08.997917Z",
     "start_time": "2023-01-15T13:26:08.982666Z"
    }
   },
   "outputs": [],
   "source": [
    "# Get "
   ]
  },
  {
   "cell_type": "code",
   "execution_count": 68,
   "id": "84187f7b",
   "metadata": {
    "ExecuteTime": {
     "end_time": "2023-01-15T13:26:11.879290Z",
     "start_time": "2023-01-15T13:26:11.856024Z"
    }
   },
   "outputs": [
    {
     "data": {
      "text/plain": [
       "'A'"
      ]
     },
     "execution_count": 68,
     "metadata": {},
     "output_type": "execute_result"
    }
   ],
   "source": [
    "d.get(2)"
   ]
  },
  {
   "cell_type": "code",
   "execution_count": 69,
   "id": "e974ff87",
   "metadata": {
    "ExecuteTime": {
     "end_time": "2023-01-15T13:26:13.982463Z",
     "start_time": "2023-01-15T13:26:13.966616Z"
    }
   },
   "outputs": [],
   "source": [
    "# Items"
   ]
  },
  {
   "cell_type": "code",
   "execution_count": 70,
   "id": "beddc4bd",
   "metadata": {
    "ExecuteTime": {
     "end_time": "2023-01-15T13:26:15.563166Z",
     "start_time": "2023-01-15T13:26:15.547449Z"
    }
   },
   "outputs": [
    {
     "data": {
      "text/plain": [
       "dict_items([(1, 10), (2, 'A'), (3, True)])"
      ]
     },
     "execution_count": 70,
     "metadata": {},
     "output_type": "execute_result"
    }
   ],
   "source": [
    "d.items()"
   ]
  },
  {
   "cell_type": "code",
   "execution_count": 71,
   "id": "52ef940a",
   "metadata": {
    "ExecuteTime": {
     "end_time": "2023-01-15T13:26:16.902832Z",
     "start_time": "2023-01-15T13:26:16.894662Z"
    }
   },
   "outputs": [],
   "source": [
    "# Key"
   ]
  },
  {
   "cell_type": "code",
   "execution_count": 72,
   "id": "c1268527",
   "metadata": {
    "ExecuteTime": {
     "end_time": "2023-01-15T13:26:18.282640Z",
     "start_time": "2023-01-15T13:26:18.269403Z"
    }
   },
   "outputs": [
    {
     "data": {
      "text/plain": [
       "dict_keys([1, 2, 3])"
      ]
     },
     "execution_count": 72,
     "metadata": {},
     "output_type": "execute_result"
    }
   ],
   "source": [
    "d.keys()"
   ]
  },
  {
   "cell_type": "code",
   "execution_count": 73,
   "id": "5660709d",
   "metadata": {
    "ExecuteTime": {
     "end_time": "2023-01-15T13:26:21.676237Z",
     "start_time": "2023-01-15T13:26:21.664799Z"
    }
   },
   "outputs": [],
   "source": [
    "# Adding value in dictionary (update)\n",
    "d.update({'car':'BMW'})"
   ]
  },
  {
   "cell_type": "code",
   "execution_count": 74,
   "id": "e7a30cc3",
   "metadata": {
    "ExecuteTime": {
     "end_time": "2023-01-15T13:26:23.870085Z",
     "start_time": "2023-01-15T13:26:23.853921Z"
    }
   },
   "outputs": [
    {
     "data": {
      "text/plain": [
       "{1: 10, 2: 'A', 3: True, 'car': 'BMW'}"
      ]
     },
     "execution_count": 74,
     "metadata": {},
     "output_type": "execute_result"
    }
   ],
   "source": [
    "d"
   ]
  },
  {
   "cell_type": "code",
   "execution_count": 75,
   "id": "b212aec7",
   "metadata": {
    "ExecuteTime": {
     "end_time": "2023-01-15T13:26:25.860352Z",
     "start_time": "2023-01-15T13:26:25.853338Z"
    }
   },
   "outputs": [],
   "source": [
    "# Pop "
   ]
  },
  {
   "cell_type": "code",
   "execution_count": 76,
   "id": "c6198c8f",
   "metadata": {
    "ExecuteTime": {
     "end_time": "2023-01-15T13:26:27.685062Z",
     "start_time": "2023-01-15T13:26:27.661701Z"
    }
   },
   "outputs": [
    {
     "data": {
      "text/plain": [
       "True"
      ]
     },
     "execution_count": 76,
     "metadata": {},
     "output_type": "execute_result"
    }
   ],
   "source": [
    "d.pop(3)"
   ]
  },
  {
   "cell_type": "code",
   "execution_count": 78,
   "id": "a04d64a4",
   "metadata": {
    "ExecuteTime": {
     "end_time": "2023-01-15T13:26:31.645132Z",
     "start_time": "2023-01-15T13:26:31.620907Z"
    }
   },
   "outputs": [
    {
     "data": {
      "text/plain": [
       "{1: 10, 2: 'A', 'car': 'BMW'}"
      ]
     },
     "execution_count": 78,
     "metadata": {},
     "output_type": "execute_result"
    }
   ],
   "source": [
    "d"
   ]
  },
  {
   "cell_type": "code",
   "execution_count": 77,
   "id": "8d1ea5bc",
   "metadata": {
    "ExecuteTime": {
     "end_time": "2023-01-15T13:26:29.833633Z",
     "start_time": "2023-01-15T13:26:29.809783Z"
    }
   },
   "outputs": [],
   "source": [
    "# Values"
   ]
  },
  {
   "cell_type": "code",
   "execution_count": 79,
   "id": "6bdab3b3",
   "metadata": {
    "ExecuteTime": {
     "end_time": "2023-01-15T13:26:33.695062Z",
     "start_time": "2023-01-15T13:26:33.672278Z"
    }
   },
   "outputs": [
    {
     "data": {
      "text/plain": [
       "dict_values([10, 'A', 'BMW'])"
      ]
     },
     "execution_count": 79,
     "metadata": {},
     "output_type": "execute_result"
    }
   ],
   "source": [
    "d.values()"
   ]
  },
  {
   "cell_type": "markdown",
   "id": "224faa2b",
   "metadata": {},
   "source": [
    "# 4) Set :-\n",
    " \n",
    " - Set is a collection which is unordered, unindexed.\n",
    " \n",
    " - Set is immutable.\n",
    " \n",
    " - Sets are unordered , so you cannot be sure in which order the items will appear.\n",
    " \n",
    " - Set do not allow duplicate values.\n",
    " \n",
    " - Once a set is created , you connot change its items , but you can remove items and add new items.\n",
    " \n",
    " - As set are unordered, they do not support indexing and slicing operations."
   ]
  },
  {
   "cell_type": "code",
   "execution_count": 80,
   "id": "a93a7786",
   "metadata": {
    "ExecuteTime": {
     "end_time": "2023-01-15T13:26:37.677444Z",
     "start_time": "2023-01-15T13:26:37.661415Z"
    }
   },
   "outputs": [
    {
     "data": {
      "text/plain": [
       "set"
      ]
     },
     "execution_count": 80,
     "metadata": {},
     "output_type": "execute_result"
    }
   ],
   "source": [
    "# Creating an empty set \n",
    "\n",
    "s = {1,2,3,10.5,'A'}\n",
    "type(s)"
   ]
  },
  {
   "cell_type": "code",
   "execution_count": 81,
   "id": "92daa6b4",
   "metadata": {
    "ExecuteTime": {
     "end_time": "2023-01-15T13:26:39.777963Z",
     "start_time": "2023-01-15T13:26:39.769956Z"
    }
   },
   "outputs": [],
   "source": [
    "# Does not allow duplicate items"
   ]
  },
  {
   "cell_type": "code",
   "execution_count": 82,
   "id": "a01328d1",
   "metadata": {
    "ExecuteTime": {
     "end_time": "2023-01-15T13:26:42.506413Z",
     "start_time": "2023-01-15T13:26:42.481339Z"
    }
   },
   "outputs": [],
   "source": [
    "s1 = {1,1,2,3,4,10,5,9,2,7,8,2,3,6}"
   ]
  },
  {
   "cell_type": "code",
   "execution_count": 83,
   "id": "e211db61",
   "metadata": {
    "ExecuteTime": {
     "end_time": "2023-01-15T13:26:44.483986Z",
     "start_time": "2023-01-15T13:26:44.460510Z"
    }
   },
   "outputs": [
    {
     "data": {
      "text/plain": [
       "{1, 2, 3, 4, 5, 6, 7, 8, 9, 10}"
      ]
     },
     "execution_count": 83,
     "metadata": {},
     "output_type": "execute_result"
    }
   ],
   "source": [
    "s1"
   ]
  },
  {
   "cell_type": "code",
   "execution_count": 86,
   "id": "5564dc82",
   "metadata": {
    "ExecuteTime": {
     "end_time": "2023-01-15T13:27:35.639328Z",
     "start_time": "2023-01-15T13:27:35.623381Z"
    }
   },
   "outputs": [
    {
     "data": {
      "text/plain": [
       "{1, 10.5, 2, 3, 'A'}"
      ]
     },
     "execution_count": 86,
     "metadata": {},
     "output_type": "execute_result"
    }
   ],
   "source": [
    "s"
   ]
  },
  {
   "cell_type": "code",
   "execution_count": 90,
   "id": "47119f81",
   "metadata": {
    "ExecuteTime": {
     "end_time": "2023-01-15T13:27:48.685870Z",
     "start_time": "2023-01-15T13:27:48.670606Z"
    }
   },
   "outputs": [
    {
     "ename": "TypeError",
     "evalue": "'set' object is not subscriptable",
     "output_type": "error",
     "traceback": [
      "\u001b[1;31m---------------------------------------------------------------------------\u001b[0m",
      "\u001b[1;31mTypeError\u001b[0m                                 Traceback (most recent call last)",
      "\u001b[1;32m~\\AppData\\Local\\Temp\\ipykernel_10892\\111457648.py\u001b[0m in \u001b[0;36m<module>\u001b[1;34m\u001b[0m\n\u001b[0;32m      1\u001b[0m \u001b[1;31m# Does not support indexing\u001b[0m\u001b[1;33m\u001b[0m\u001b[1;33m\u001b[0m\u001b[0m\n\u001b[1;32m----> 2\u001b[1;33m \u001b[0ms\u001b[0m\u001b[1;33m[\u001b[0m\u001b[1;33m-\u001b[0m\u001b[1;36m1\u001b[0m\u001b[1;33m]\u001b[0m\u001b[1;33m\u001b[0m\u001b[1;33m\u001b[0m\u001b[0m\n\u001b[0m",
      "\u001b[1;31mTypeError\u001b[0m: 'set' object is not subscriptable"
     ]
    }
   ],
   "source": [
    "# Does not support indexing \n",
    "s[-1]"
   ]
  },
  {
   "cell_type": "code",
   "execution_count": 92,
   "id": "9ca50f35",
   "metadata": {
    "ExecuteTime": {
     "end_time": "2023-01-15T13:28:10.672172Z",
     "start_time": "2023-01-15T13:28:10.648079Z"
    }
   },
   "outputs": [
    {
     "data": {
      "text/plain": [
       "{1, 10.5, 100, 2, 3, 'A'}"
      ]
     },
     "execution_count": 92,
     "metadata": {},
     "output_type": "execute_result"
    }
   ],
   "source": [
    "# Add\n",
    "\n",
    "s.add(100)\n",
    "s"
   ]
  },
  {
   "cell_type": "code",
   "execution_count": 93,
   "id": "28706e7d",
   "metadata": {
    "ExecuteTime": {
     "end_time": "2023-01-15T13:29:39.488885Z",
     "start_time": "2023-01-15T13:29:39.467291Z"
    }
   },
   "outputs": [],
   "source": [
    "a = {'Apple','Mango','Cherry'}\n",
    "b = {'Microsoft','Google','Cherry'}"
   ]
  },
  {
   "cell_type": "code",
   "execution_count": 94,
   "id": "d310de58",
   "metadata": {
    "ExecuteTime": {
     "end_time": "2023-01-15T13:30:09.361145Z",
     "start_time": "2023-01-15T13:30:09.353133Z"
    }
   },
   "outputs": [],
   "source": [
    "# Difference"
   ]
  },
  {
   "cell_type": "code",
   "execution_count": 95,
   "id": "ba139822",
   "metadata": {
    "ExecuteTime": {
     "end_time": "2023-01-15T13:30:24.371439Z",
     "start_time": "2023-01-15T13:30:24.355871Z"
    }
   },
   "outputs": [
    {
     "data": {
      "text/plain": [
       "{'Apple', 'Mango'}"
      ]
     },
     "execution_count": 95,
     "metadata": {},
     "output_type": "execute_result"
    }
   ],
   "source": [
    "a.difference(b)"
   ]
  },
  {
   "cell_type": "code",
   "execution_count": 96,
   "id": "7c46a5c1",
   "metadata": {
    "ExecuteTime": {
     "end_time": "2023-01-15T13:30:39.406414Z",
     "start_time": "2023-01-15T13:30:39.382228Z"
    }
   },
   "outputs": [
    {
     "data": {
      "text/plain": [
       "{'Google', 'Microsoft'}"
      ]
     },
     "execution_count": 96,
     "metadata": {},
     "output_type": "execute_result"
    }
   ],
   "source": [
    "b.difference(a)"
   ]
  },
  {
   "cell_type": "code",
   "execution_count": 97,
   "id": "6ac739e6",
   "metadata": {
    "ExecuteTime": {
     "end_time": "2023-01-15T13:31:09.696027Z",
     "start_time": "2023-01-15T13:31:09.680468Z"
    }
   },
   "outputs": [],
   "source": [
    "# Intersection"
   ]
  },
  {
   "cell_type": "code",
   "execution_count": 98,
   "id": "7adec013",
   "metadata": {
    "ExecuteTime": {
     "end_time": "2023-01-15T13:31:24.122786Z",
     "start_time": "2023-01-15T13:31:24.099360Z"
    }
   },
   "outputs": [
    {
     "data": {
      "text/plain": [
       "{'Cherry'}"
      ]
     },
     "execution_count": 98,
     "metadata": {},
     "output_type": "execute_result"
    }
   ],
   "source": [
    "a.intersection(b)"
   ]
  },
  {
   "cell_type": "code",
   "execution_count": 99,
   "id": "b0acc7db",
   "metadata": {
    "ExecuteTime": {
     "end_time": "2023-01-15T13:31:37.536046Z",
     "start_time": "2023-01-15T13:31:37.512666Z"
    }
   },
   "outputs": [],
   "source": [
    "# Union"
   ]
  },
  {
   "cell_type": "code",
   "execution_count": 105,
   "id": "9ef7ae5c",
   "metadata": {
    "ExecuteTime": {
     "end_time": "2023-01-15T13:33:25.812314Z",
     "start_time": "2023-01-15T13:33:25.789950Z"
    }
   },
   "outputs": [
    {
     "data": {
      "text/plain": [
       "{'Apple', 'Cherry', 'Google', 'Mango', 'Microsoft'}"
      ]
     },
     "execution_count": 105,
     "metadata": {},
     "output_type": "execute_result"
    }
   ],
   "source": [
    "c = a.union(b)\n",
    "c"
   ]
  },
  {
   "cell_type": "code",
   "execution_count": 101,
   "id": "fe80d93f",
   "metadata": {
    "ExecuteTime": {
     "end_time": "2023-01-15T13:32:07.808754Z",
     "start_time": "2023-01-15T13:32:07.792677Z"
    }
   },
   "outputs": [],
   "source": [
    "# Pop"
   ]
  },
  {
   "cell_type": "code",
   "execution_count": 106,
   "id": "5f3d9296",
   "metadata": {
    "ExecuteTime": {
     "end_time": "2023-01-15T13:33:34.922145Z",
     "start_time": "2023-01-15T13:33:34.899442Z"
    }
   },
   "outputs": [
    {
     "data": {
      "text/plain": [
       "'Google'"
      ]
     },
     "execution_count": 106,
     "metadata": {},
     "output_type": "execute_result"
    }
   ],
   "source": [
    "c.pop()"
   ]
  },
  {
   "cell_type": "code",
   "execution_count": 107,
   "id": "c9194e3a",
   "metadata": {
    "ExecuteTime": {
     "end_time": "2023-01-15T13:33:39.870005Z",
     "start_time": "2023-01-15T13:33:39.856570Z"
    }
   },
   "outputs": [
    {
     "data": {
      "text/plain": [
       "{'Apple', 'Cherry', 'Mango', 'Microsoft'}"
      ]
     },
     "execution_count": 107,
     "metadata": {},
     "output_type": "execute_result"
    }
   ],
   "source": [
    "c"
   ]
  }
 ],
 "metadata": {
  "_draft": {
   "nbviewer_url": "https://gist.github.com/fc875bd4b7d53e58629fc9c7d32e16a2"
  },
  "gist": {
   "data": {
    "description": "Documents/Untitled.ipynb",
    "public": true
   },
   "id": "fc875bd4b7d53e58629fc9c7d32e16a2"
  },
  "kernelspec": {
   "display_name": "Python 3 (ipykernel)",
   "language": "python",
   "name": "python3"
  },
  "language_info": {
   "codemirror_mode": {
    "name": "ipython",
    "version": 3
   },
   "file_extension": ".py",
   "mimetype": "text/x-python",
   "name": "python",
   "nbconvert_exporter": "python",
   "pygments_lexer": "ipython3",
   "version": "3.9.13"
  }
 },
 "nbformat": 4,
 "nbformat_minor": 5
}
